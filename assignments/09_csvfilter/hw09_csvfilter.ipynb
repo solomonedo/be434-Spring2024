{
 "cells": [
  {
   "cell_type": "markdown",
   "id": "9b8ceab8",
   "metadata": {},
   "source": [
    "# Assignment 9: CSV filter\n",
    "\n",
    "Create Python program called `csvfilter.py` that will filter a delimited text file for some value, possibly in one of the columns."
   ]
  },
  {
   "cell_type": "code",
   "execution_count": null,
   "id": "784363a2",
   "metadata": {},
   "outputs": [],
   "source": [
    "# Run this cell to make sure this assignment is up to date\n",
    "%cd ~/be434-Spring2024\n",
    "!git pull --no-edit upstream main"
   ]
  },
  {
   "cell_type": "markdown",
   "id": "b83a42b3",
   "metadata": {},
   "source": [
    "## Getting Started with new.py\n",
    "\n",
    "Let's start out by using new.py to create a program template for us.\n"
   ]
  },
  {
   "cell_type": "code",
   "execution_count": null,
   "id": "4ebfeb0e",
   "metadata": {},
   "outputs": [],
   "source": [
    "# Generate the `csvfilter.py` using `new.py`\n",
    "%cd ~/be434-Spring2024/assignments/09_csvfilter\n",
    "!new.py -p 'Parse a CSV file' csvfilter.py"
   ]
  },
  {
   "cell_type": "markdown",
   "id": "ab365cdb",
   "metadata": {},
   "source": [
    "You should see the following:\n",
    "\n",
    "```\n",
    "$ new.py -p 'Parse a CSV file' csvfilter.py\n",
    "Done, see new script \"csvfilter.py.\"\n",
    "```"
   ]
  },
  {
   "cell_type": "markdown",
   "id": "75879134",
   "metadata": {},
   "source": [
    "## Instructions\n",
    "\n",
    "### Usage\n",
    "\n",
    "The program should take the following parameters:\n",
    "\n",
    "* `-f`|`--file`: A *required* argument that is a readable file\n",
    "* `-v`|`--val`: A *required* \"value\" to match against each record\n",
    "* `-c`|`--col`: An optional \"column\" to search for the given value\n",
    "* `-o`|`--outfile`: An optional output file name (default `'out.csv'`)\n",
    "* `-d`|`--delimiter`: An optional delimiter to use to parse the file (default `','`)\n",
    "\n",
    "Here is the expected usage for the program:\n",
    "\n",
    "```\n",
    "$ ./csvfilter.py -h\n",
    "usage: csvfilter.py [-h] -f FILE -v val [-c col] [-o OUTFILE] [-d delim]\n",
    "\n",
    "Filter delimited records\n",
    "\n",
    "optional arguments:\n",
    "  -h, --help            show this help message and exit\n",
    "  -f FILE, --file FILE  Input file (default: None)\n",
    "  -v val, --val val     Value for filter (default: None)\n",
    "  -c col, --col col     Column for filter (default: )\n",
    "  -o OUTFILE, --outfile OUTFILE\n",
    "                        Output filename (default: out.csv)\n",
    "  -d delim, --delimiter delim\n",
    "                        Input delimiter (default: ,)\n",
    "```\n",
    "\n",
    "### Output\n",
    "\n",
    "The program will search the `--file` for the `--val` value either in the given `--col` column or anywhere on the line in a _case-insensitive_ fashion.\n",
    "Any records matching will be written to the `--outfile`.\n",
    "The input files are delimited by commas and tabs, so you will need to use the `--delimiter` option to parse them.\n"
   ]
  },
  {
   "cell_type": "markdown",
   "id": "a9bd3518",
   "metadata": {},
   "source": [
    "## Time to write some code!\n",
    "\n",
    "Open the script here in VS Code in be434-Spring2024 -> assignments -> 09_csvfilter -> csvfilter.py \n",
    "\n",
    "Write/edit the code using the instructions above."
   ]
  },
  {
   "cell_type": "markdown",
   "id": "ba5ccb6d",
   "metadata": {},
   "source": [
    "## Hints: Parsing and writing delimited files\n",
    "\n",
    "For this assignment, you will need to use the `csv` module, specifically:\n",
    "\n",
    "* `csv.DictReader`\n",
    "* `csv.DictWriter`\n",
    "\n",
    "Be sure to read the https://docs.python.org/3/library/csv.html[documentation]!\n",
    "\n",
    "Your `args.file` should be an open file handle, so you can create a reader:\n",
    "\n",
    "```\n",
    "reader = csv.DictReader(args.file, delimiter=args.delimiter)\n",
    "```\n",
    "\n",
    "This object has a `fieldnames` attribute which you should use to verify that the given `--col` argument is actually a valid option.\n",
    "If it is not, your program should print an error message (preferably to `STDERR`) and exit _with an error value_.\n",
    "You may optionally display the valid fieldnames, but this is not tested:\n",
    "\n",
    "```\n",
    "$ ./csvfilter.py -d $'\\t' -v BACTERIA -f inputs/centroids.tab -c clas\n",
    "--col \"clas\" not a valid column!\n",
    "Choose from centroid, domain, kingdom, phylum, class, order, genus, species\n",
    "```\n",
    "\n",
    "You can use the `csv.DictWriter` to create a writer which can be used to write the header row to the output file:\n",
    "\n",
    "```\n",
    "writer = csv.DictWriter(args.outfile, fieldnames=reader.fieldnames)\n",
    "writer.writeheader()\n",
    "```\n",
    "\n",
    "You can use a `for` loop to iterate through each record in the input file where the record will be represented as a `dict` having the first row column headers for the keys and the current record's data as the values.\n",
    "Try this to start:\n",
    "\n",
    "```\n",
    "for rec in reader:\n",
    "    print(rec)\n",
    "\tbreak\n",
    "```\n",
    "\n",
    "You will search for the indicated `--val` in all the `rec.values()` or just the given `--col` column from the record.\n",
    "I would suggest you use a regular expression with the case-insensitive option:\n",
    "\n",
    "```\n",
    "if re.search(search_for, text, re.IGNORECASE):\n",
    "    # write the output\n",
    "```\n",
    "\n",
    "You can refer to the `csv.DictWriter` documentation to see how to use the `writer` to write the record in a way that is similar to how we have used `SeqIO.write()` to write a sequence record to an output file handle.\n",
    "\n",
    "When you are done, be sure to let the user know how many records were written to which output file name."
   ]
  },
  {
   "cell_type": "markdown",
   "id": "9978d187",
   "metadata": {},
   "source": [
    "## The datasets\n",
    "\n",
    "Let's start out by getting to know the datasets we will be working with, and learning how we can test our code along the way.\n",
    "\n",
    "### Titanic\n",
    "\n",
    "For the following, We can use commands from csvkit (a program installed on the HPC) to test the output of our program on various test files.\n",
    "We will use the csvlook and csvgrep commands in csvkit."
   ]
  },
  {
   "cell_type": "code",
   "execution_count": null,
   "id": "8a4679b3",
   "metadata": {},
   "outputs": [],
   "source": [
    "# let's look at the first three rows in the titanic file\n",
    "%cd ~/be434-Spring2024/assignments/09_csvfilter\n",
    "!csvlook --max-rows 3 inputs/titanic.csv"
   ]
  },
  {
   "cell_type": "markdown",
   "id": "cbf02b99",
   "metadata": {},
   "source": [
    "You should see something like the following:\n",
    "\n",
    "----\n",
    "| id | survived | pclass | sex    | age | sibsp | parch |    fare | embarked | class | who   | adult_male | deck | embark_town | alive | alone |\n",
    "| -- | -------- | ------ | ------ | --- | ----- | ----- | ------- | -------- | ----- | ----- | ---------- | ---- | ----------- | ----- | ----- |\n",
    "|  0 |    False |      3 | male   |  22 |     1 |     0 |  7.250… | S        | Third | man   |       True |      | Southampton | False | False |\n",
    "|  1 |     True |      1 | female |  38 |     1 |     0 | 71.283… | C        | First | woman |      False | C    | Cherbourg   |  True | False |\n",
    "|  2 |     True |      3 | female |  26 |     0 |     0 |  7.925… | S        | Third | woman |      False |      | Southampton |  True |  True |\n",
    "----"
   ]
  },
  {
   "cell_type": "code",
   "execution_count": null,
   "id": "78e6a961",
   "metadata": {},
   "outputs": [],
   "source": [
    "# If wanted to find how many records have the value \"true\" (case-insensitive), I could use `grep`:\n",
    "!grep -i true inputs/titanic.csv | wc -l"
   ]
  },
  {
   "cell_type": "markdown",
   "id": "c43d84c2",
   "metadata": {},
   "source": [
    "You should see the following:\n",
    "\n",
    "```\n",
    "$ grep -i true inputs/titanic.csv | wc -l\n",
    "     664\n",
    "```\n",
    "\n",
    "So if I run my program to search for this value, I should get the same number:"
   ]
  },
  {
   "cell_type": "code",
   "execution_count": null,
   "id": "45ea925d",
   "metadata": {},
   "outputs": [],
   "source": [
    "# Try running your code to see if you get the following:\n",
    "# Done, wrote 664 to \"out.csv\".\n",
    "!./csvfilter.py -v true -f inputs/titanic.csv"
   ]
  },
  {
   "cell_type": "markdown",
   "id": "974fbac9",
   "metadata": {},
   "source": [
    "This type of search is looking for the string \"true\" (case-insensitive) _anywhere on the line_.\n",
    "If I wanted to only look in the `adult_male` column, however, I would get a different number:"
   ]
  },
  {
   "cell_type": "code",
   "execution_count": null,
   "id": "270249f4",
   "metadata": {},
   "outputs": [],
   "source": [
    "# Run the code with a column filter:\n",
    "# Done, wrote 537 to \"out.csv\".\n",
    "!./csvfilter.py -v true -c adult_male -f inputs/titanic.csv"
   ]
  },
  {
   "cell_type": "code",
   "execution_count": null,
   "id": "48981a24",
   "metadata": {},
   "outputs": [],
   "source": [
    "# We can confirm this number with the command csvgrep and word count\n",
    "# note the extra count for the header, and that this is case-sensitive\n",
    "!csvgrep -c adult_male -m \"True\" inputs/titanic.csv | wc -l"
   ]
  },
  {
   "cell_type": "code",
   "execution_count": null,
   "id": "952b7b07",
   "metadata": {},
   "outputs": [],
   "source": [
    "# we can also use awk to validate this\n",
    "# Note that `adult_male` is in column 12, so I can use that with `awk` to extract the 12th column and `grep` for \"true\"\n",
    "# We should get 537, that looks legit!\n",
    "!awk -F',' '{print $12}' inputs/titanic.csv | grep -i true | wc -l"
   ]
  },
  {
   "cell_type": "markdown",
   "id": "185b3386",
   "metadata": {},
   "source": [
    "## Centroids\n",
    "\n",
    "Let's now check out the `centroids.txt` file:"
   ]
  },
  {
   "cell_type": "markdown",
   "id": "8f00a7c5",
   "metadata": {},
   "source": [
    "# Look at centroids file\n",
    "!csvlook --tabs --max-rows 3 inputs/centroids.tab"
   ]
  },
  {
   "cell_type": "markdown",
   "id": "bb56251b",
   "metadata": {},
   "source": [
    "You should see something like this\n",
    "| centroid                         | domain   | kingdom        | phylum              | class            | order                   | genus                | species              |\n",
    "| -------------------------------- | -------- | -------------- | ------------------- | ---------------- | ----------------------- | -------------------- | -------------------- |\n",
    "| e5d49c0803f04032b482a1ee836e18ab | Bacteria | Proteobacteria | Alphaproteobacteria | Rhodospirillales | AEGEAN-169 marine group | uncultured bacterium | uncultured bacterium |\n",
    "| 2a4e004a710b7a1f3e676c0f4a5cfbb2 | Archaea  | Euryarchaeota  | Thermoplasmata      | Marine Group II  | uncultured archaeon     | uncultured archaeon  | uncultured archaeon  |\n",
    "| d690a57bf58faabbac9effb929f66cb2 | Bacteria | Proteobacteria | Alphaproteobacteria | SAR11 clade      |                         |                      |                      |\n",
    "| ...                              | ...      | ...            | ...                 | ...              | ...                     | ...                  | ...                  |\n",
    "\n"
   ]
  },
  {
   "cell_type": "code",
   "execution_count": null,
   "id": "0e32be9c",
   "metadata": {},
   "outputs": [],
   "source": [
    "# The string \"bacteria\" occurs on 493 lines:\n",
    "!grep -i bacteria inputs/centroids.tab | wc -l"
   ]
  },
  {
   "cell_type": "code",
   "execution_count": null,
   "id": "91b1fa32",
   "metadata": {},
   "outputs": [],
   "source": [
    "# To parse this file, we'll need to indicate that the `--delimiter` is a tab character:\n",
    "# Test your code and see if you get this:\n",
    "# Done, wrote 493 to \"bacteria.csv\".\n",
    "!./csvfilter.py -d $'\\t' -v BACTERIA -f inputs/centroids.tab -o bacteria.csv"
   ]
  },
  {
   "cell_type": "code",
   "execution_count": null,
   "id": "986c778d",
   "metadata": {},
   "outputs": [],
   "source": [
    "# check this with word count\n",
    "!wc -l bacteria.csv"
   ]
  },
  {
   "cell_type": "code",
   "execution_count": null,
   "id": "317685a5",
   "metadata": {},
   "outputs": [],
   "source": [
    "# If, however, we limit out search to the \"class\" column,\n",
    "# the string \"bacteria\" occurs only 50 times:\n",
    "# You should see this:\n",
    "# Done, wrote 50 to \"bacteria.csv\".\n",
    "!./csvfilter.py -d $'\\t' -v BACTERIA -f inputs/centroids.tab -o bacteria.csv -c class"
   ]
  },
  {
   "cell_type": "code",
   "execution_count": null,
   "id": "7cc498c1",
   "metadata": {},
   "outputs": [],
   "source": [
    "# check this with word count\n",
    "!wc -l bacteria.csv"
   ]
  },
  {
   "cell_type": "markdown",
   "id": "b36da2be",
   "metadata": {},
   "source": [
    "## Testing\n",
    "\n",
    "As you write your code, you can test it along the way to make sure that you are passing all of the tests for the homework. \n",
    "We will use the test suite that is included with the assignment to test that you are meeting all of the requirements in the instructions above. \n",
    "You will find the steps below to test your code. Note that you can also run these commands from a \"shell\" within the VS Code GUI. Or, you can run them here... "
   ]
  },
  {
   "cell_type": "code",
   "execution_count": null,
   "id": "82d769ad",
   "metadata": {},
   "outputs": [],
   "source": [
    "# Format your code to make it beautiful (this is called linting)\n",
    "!black ~/be434-Spring2024/assignments/09_csvfilter/csvfilter.py"
   ]
  },
  {
   "cell_type": "code",
   "execution_count": null,
   "id": "4f59ebe4",
   "metadata": {},
   "outputs": [],
   "source": [
    "# Now run the tests on your code\n",
    "!make test"
   ]
  },
  {
   "cell_type": "markdown",
   "id": "536339a6",
   "metadata": {},
   "source": [
    "A passing test suite:\n",
    "\n",
    "```\n",
    "$ conda activate /groups/bhurwitz/bh_class/be434/be434-conda\n",
    "$ make test\n",
    "pytest -xv --disable-pytest-warnings test.py\n",
    "=========================== test session starts ============================\n",
    "...\n",
    "\n",
    "test.py::test_exists PASSED                                           [ 12%]\n",
    "test.py::test_usage PASSED                                            [ 25%]\n",
    "test.py::test_bad_file PASSED                                         [ 37%]\n",
    "test.py::test_bad_column PASSED                                       [ 50%]\n",
    "test.py::test_titanic_any_true PASSED                                 [ 62%]\n",
    "test.py::test_titanic_adult_male_true PASSED                          [ 75%]\n",
    "test.py::test_centroids_any_bacteria PASSED                           [ 87%]\n",
    "test.py::test_centroids_class_bacteria PASSED                         [100%]\n",
    "\n",
    "============================ 8 passed in 0.51s =============================\n",
    "```\n",
    "\n"
   ]
  },
  {
   "cell_type": "markdown",
   "id": "913bd6db",
   "metadata": {},
   "source": [
    "## Uploading your code to GitHub\n",
    "\n",
    "Once you have written the code for your assignment, and are passing all of the tests above, you are ready to submit the assignment for grading. Use the steps below to submit your code to GitHub.\n",
    "\n",
    "* Note, if you are having any issues with passing tests, and need help, you can also submit the code with a different commit message like the following. \n",
    "\n",
    "```\n",
    "git commit -m \"test_XXX failing for 09_csvfilter\"\n",
    "```\n",
    "\n",
    "Once you have done that, send a private slack message to me @bhurwitz to let me know you submitted code and need help.\n"
   ]
  },
  {
   "cell_type": "code",
   "execution_count": null,
   "id": "04933b7e",
   "metadata": {},
   "outputs": [],
   "source": [
    "# Submit your code to Github\n",
    "%cd\n",
    "%cd be434-Spring2024\n",
    "!git add -A && git commit -m \"Submitting 09_csvfilter for grading\"\n",
    "!git push"
   ]
  },
  {
   "cell_type": "markdown",
   "metadata": {},
   "source": [
    "Great job! You are done with this assignment.\n",
    "\n",
    "## Authors\n",
    "\n",
    "Bonnie Hurwitz <bhurwitz@arizona.edu> and Ken Youens-Clark <kyclark@gmail.com>"
   ]
  }
 ],
 "metadata": {
  "kernelspec": {
   "display_name": "Python 3 (ipykernel)",
   "language": "python",
   "name": "python3"
  },
  "language_info": {
   "codemirror_mode": {
    "name": "ipython",
    "version": 3
   },
   "file_extension": ".py",
   "mimetype": "text/x-python",
   "name": "python",
   "nbconvert_exporter": "python",
   "pygments_lexer": "ipython3",
   "version": "3.10.9"
  }
 },
 "nbformat": 4,
 "nbformat_minor": 5
}
