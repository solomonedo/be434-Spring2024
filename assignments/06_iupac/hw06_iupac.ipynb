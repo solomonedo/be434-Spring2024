{
 "cells": [
  {
   "cell_type": "markdown",
   "metadata": {},
   "source": [
    "# Assignment 6: IUPAC\n",
    "\n",
    "## Expanding DNA IUPAC Codes into Regular Expressions\n",
    "\n",
    "In this assignment, you will write a Python program called `iupac.py` that translates an \n",
    "IUPAC-encoded (https://www.bioinformatics.org/sms/iupac.html) string of DNA into a regular expression \n",
    "that will match all the possible strings of DNA.\n",
    "\n",
    "Following are the iupac codes: \n",
    "\n",
    "```\n",
    "+------------+------+\n",
    "| IUPAC code | Base |\n",
    "|------------+------|\n",
    "| A          | A    |\n",
    "| C          | C    |\n",
    "| G          | G    |\n",
    "| T          | T    |\n",
    "| U          | U    |\n",
    "| R          | AG   |\n",
    "| Y          | CT   |\n",
    "| S          | GC   |\n",
    "| W          | AT   |\n",
    "| K          | GT   |\n",
    "| M          | AC   |\n",
    "| B          | CGT  |\n",
    "| D          | AGT  |\n",
    "| H          | ACT  |\n",
    "| V          | ACG  |\n",
    "| N          | ACGT |\n",
    "+------------+------+\n",
    "```\n",
    "\n",
    "For instance, the pattern `AYG` would match both `ACG` and `ATG`, so the regular expression would be `^A[CT]G$`."
   ]
  },
  {
   "cell_type": "code",
   "execution_count": 5,
   "metadata": {},
   "outputs": [
    {
     "data": {
      "text/plain": [
       "'OK'"
      ]
     },
     "execution_count": 5,
     "metadata": {},
     "output_type": "execute_result"
    }
   ],
   "source": [
    "# You can verify that this works:\n",
    "\n",
    "import re\n",
    "\n",
    "re.search('^A[CT]G$', 'ACG')\n",
    "#re.Match object; span=(0, 3), match='ACG'\n",
    "\n",
    "re.search('^A[CT]G$', 'ATG')\n",
    "#re.Match object; span=(0, 3), match='ATG'\n",
    "\n",
    "'OK' if re.search('^A[CT]G$', 'ACG') else 'NO'\n",
    "\n",
    "# You should see 'OK'"
   ]
  },
  {
   "cell_type": "code",
   "execution_count": null,
   "metadata": {},
   "outputs": [],
   "source": [
    "# Run this cell to make sure this assignment is up to date\n",
    "%cd ~/be434-Spring2024\n",
    "!git pull --no-edit upstream main"
   ]
  },
  {
   "cell_type": "markdown",
   "metadata": {},
   "source": [
    "## Getting Started with new.py\n",
    "\n",
    "Let's start out by using new.py to create a program template for us.\n"
   ]
  },
  {
   "cell_type": "code",
   "execution_count": null,
   "metadata": {},
   "outputs": [],
   "source": [
    "# Generate the `iupac.py` using `new.py`\n",
    "%cd ~/be434-Spring2024/assignments/06_iupac\n",
    "!new.py -p 'convert to IUPAC' iupac.py"
   ]
  },
  {
   "cell_type": "markdown",
   "metadata": {},
   "source": [
    "You should see the following:\n",
    "\n",
    "```\n",
    "$ new.py -p 'convert to IUPAC' iupac.py\n",
    "Done, see new script \"iupac.py.\"\n",
    "```"
   ]
  },
  {
   "cell_type": "markdown",
   "metadata": {},
   "source": [
    "## Instructions\n",
    "\n",
    "### Usage\n",
    "Your program should accept the following arguments:\n",
    "\n",
    "1. One or more sequences as positional arguments\n",
    "2. An optional output filename. The default output should be printed to `STDOUT`.\n",
    "\n",
    "When run with no arguments, the program should print a brief usage statement:\n",
    "\n",
    "```\n",
    "$ ./iupac.py\n",
    "usage: iupac.py [-h] [-o FILE] SEQ [SEQ ...]\n",
    "iupac.py: error: the following arguments are required: SEQ\n",
    "```\n",
    "\n",
    "When run with `-h|--help`, it should print a more verbose help document:\n",
    "\n",
    "```\n",
    "$ ./iupac.py -h\n",
    "usage: iupac.py [-h] [-o FILE] SEQ [SEQ ...]\n",
    "\n",
    "Expand IUPAC codes\n",
    "\n",
    "positional arguments:\n",
    "  SEQ                   Input sequence(s)\n",
    "\n",
    "optional arguments:\n",
    "  -h, --help            show this help message and exit\n",
    "  -o FILE, --outfile FILE\n",
    "                        Output filename (default: <_io.TextIOWrapper\n",
    "                        name='<stdout>' mode='w' encoding='utf-8'>)\n",
    "```\n",
    "\n",
    "### Output\n",
    "\n",
    "For each input sequence, the program should print the sequence, a space, and theregular expression for that sequence:\n",
    "\n",
    "```\n",
    "$ ./iupac.py MCG GWC\n",
    "MCG [AC]CG\n",
    "GWC G[AT]C\n",
    "```\n",
    "\n",
    "When the output filename is given, the preceding output should be printed to the given filename and the `STDOUT` of the program should include a statement of where the output was printed:\n",
    "\n",
    "```\n",
    "$ ./iupac.py KCM BDA -o out.txt\n",
    "Done, see output in \"out.txt\"\n",
    "```\n",
    "\n",
    "The preceding command should have created an file called _out.txt_ that has the following contents:\n",
    "\n",
    "```\n",
    "$ cat out.txt\n",
    "KCM [GT]C[AC]\n",
    "BDA [CGT][AGT]A\n",
    "```"
   ]
  },
  {
   "cell_type": "markdown",
   "metadata": {},
   "source": [
    "## Time to write some code!\n",
    "\n",
    "Open the script here in VS Code in be434-Spring2024 -> assignments -> 06_iupac -> iupac.py \n",
    "\n",
    "Write/edit the code using the instructions above."
   ]
  },
  {
   "cell_type": "markdown",
   "metadata": {},
   "source": [
    "## Testing\n",
    "\n",
    "As you write your code, you can test it along the way to make sure that you are passing all of the tests for the homework. \n",
    "We will use the test suite that is included with the assignment to test that you are meeting all of the requirements in the instructions above. \n",
    "You will find the steps below to test your code. Note that you can also run these commands from a \"shell\" within the VS Code GUI. Or, you can run them here... "
   ]
  },
  {
   "cell_type": "markdown",
   "metadata": {},
   "source": [
    "## Starting up a virtual environment for testing\n",
    "\n",
    "In order to run the tests for each assignment, we need access to several Python packages (pytest, flake8, and pylint). \n",
    "These packages have been installed in a virtual environment for you. \n",
    "You can activate the environment using the following command:"
   ]
  },
  {
   "cell_type": "code",
   "execution_count": null,
   "metadata": {},
   "outputs": [],
   "source": [
    "# Format your code to make it beautiful (this is called linting)\n",
    "!black ~/be434-Spring2024/assignments/06_iupac/iupac.py"
   ]
  },
  {
   "cell_type": "code",
   "execution_count": null,
   "metadata": {},
   "outputs": [],
   "source": [
    "# Now run the tests on your code\n",
    "%cd ~/be434-Spring2024/assignments/06_iupac\n",
    "!make test"
   ]
  },
  {
   "cell_type": "markdown",
   "metadata": {},
   "source": [
    "A passing test suite looks like the following:\n",
    "\n",
    "```\n",
    "$ conda activate /groups/bhurwitz/bh_class/be434/be434-conda\n",
    "$ make test\n",
    "pytest -xv --pylint --disable-warnings test.py iupac.py\n",
    "============================= test session starts ==============================\n",
    "...\n",
    "collected 21 items\n",
    "--------------------------------------------------------------------------------\n",
    "Linting files\n",
    "..\n",
    "--------------------------------------------------------------------------------\n",
    "\n",
    "test.py::PYLINT PASSED                                                   [  4%]\n",
    "test.py::FLAKE8 PASSED                                                   [  9%]\n",
    "test.py::test_exists PASSED                                              [ 14%]\n",
    "test.py::test_usage PASSED                                               [ 19%]\n",
    "test.py::test_no_args PASSED                                             [ 23%]\n",
    "test.py::test_1 PASSED                                                   [ 28%]\n",
    "test.py::test_2 PASSED                                                   [ 33%]\n",
    "test.py::test_3 PASSED                                                   [ 38%]\n",
    "test.py::test_4 PASSED                                                   [ 42%]\n",
    "test.py::test_5 PASSED                                                   [ 47%]\n",
    "test.py::test_6 PASSED                                                   [ 52%]\n",
    "test.py::test_7 PASSED                                                   [ 57%]\n",
    "test.py::test_1_outfile PASSED                                           [ 61%]\n",
    "test.py::test_2_outfile PASSED                                           [ 66%]\n",
    "test.py::test_3_outfile PASSED                                           [ 71%]\n",
    "test.py::test_4_outfile PASSED                                           [ 76%]\n",
    "test.py::test_5_outfile PASSED                                           [ 80%]\n",
    "test.py::test_6_outfile PASSED                                           [ 85%]\n",
    "test.py::test_7_outfile PASSED                                           [ 90%]\n",
    "iupac.py::PYLINT PASSED                                                  [ 95%]\n",
    "iupac.py::FLAKE8 PASSED                                                  [100%]\n",
    "\n",
    "\n",
    "Your grade is whatever percentage of tests your code passes."
   ]
  },
  {
   "cell_type": "markdown",
   "metadata": {},
   "source": [
    "## Uploading your code to GitHub\n",
    "\n",
    "Once you have written the code for your assignment, and are passing all of the tests above, you are ready to submit the assignment for grading. Use the steps below to submit your code to GitHub.\n",
    "\n",
    "* Note, if you are having any issues with passing tests, and need help, you can also submit the code with a different commit message like the following. \n",
    "\n",
    "```\n",
    "git commit -m \"test_XXX failing for 06_iupac\"\n",
    "```\n",
    "\n",
    "Once you have done that, send a private slack message to me @bhurwitz to let me know you submitted code and need help.\n"
   ]
  },
  {
   "cell_type": "code",
   "execution_count": null,
   "metadata": {},
   "outputs": [],
   "source": [
    "# Submit your code to Github\n",
    "%cd\n",
    "%cd be434-Spring2024\n",
    "!git add -A && git commit -m \"Submitting 06_iupac for grading\"\n",
    "!git push"
   ]
  },
  {
   "cell_type": "markdown",
   "metadata": {},
   "source": [
    "Great job! You are done with this assignment.\n",
    "\n",
    "## Authors\n",
    "\n",
    "Bonnie Hurwitz <bhurwitz@arizona.edu> and Ken Youens-Clark <kyclark@gmail.com>"
   ]
  }
 ],
 "metadata": {
  "kernelspec": {
   "display_name": "Python 3 (ipykernel)",
   "language": "python",
   "name": "python3"
  },
  "language_info": {
   "codemirror_mode": {
    "name": "ipython",
    "version": 3
   },
   "file_extension": ".py",
   "mimetype": "text/x-python",
   "name": "python",
   "nbconvert_exporter": "python",
   "pygments_lexer": "ipython3",
   "version": "3.9.6"
  }
 },
 "nbformat": 4,
 "nbformat_minor": 5
}
