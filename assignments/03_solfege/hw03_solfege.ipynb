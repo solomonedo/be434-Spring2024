{
 "cells": [
  {
   "cell_type": "markdown",
   "metadata": {},
   "source": [
    "# Assignment 3: Solfege\n",
    "\n",
    "For this assignment, we'll draw inspiration from the song \"Do-Re-Mi\" from _The Sound of Music_:\n",
    "\n",
    "https://www.youtube.com/watch?v=drnBMAEA3AM"
   ]
  },
  {
   "cell_type": "code",
   "execution_count": null,
   "metadata": {},
   "outputs": [],
   "source": [
    "# Run this cell to make sure this assignment is up to date\n",
    "%cd ~/be434-Spring2024\n",
    "!git pull --no-edit upstream main"
   ]
  },
  {
   "cell_type": "markdown",
   "metadata": {},
   "source": [
    "## Getting Started with new.py\n",
    "\n",
    "Let's start out by using new.py to create a program template for us.\n"
   ]
  },
  {
   "cell_type": "code",
   "execution_count": null,
   "metadata": {},
   "outputs": [],
   "source": [
    "# Generate the `salutations.py` using `new.py`\n",
    "%cd ~/be434-Spring2024/assignments/03_solfege\n",
    "!new.py -p 'Sing a song' solfege.py"
   ]
  },
  {
   "cell_type": "markdown",
   "metadata": {},
   "source": [
    "You should see the following:\n",
    "\n",
    "```\n",
    "$ new.py -p 'Sing a song' solfege.py\n",
    "Done, see new script \"solfege.py.\"\n",
    "```"
   ]
  },
  {
   "cell_type": "markdown",
   "metadata": {},
   "source": [
    "## Instructions\n",
    "\n",
    "### Usage and Arguments\n",
    "\n",
    "Your program will accept one or more positional arguments which may or may not name a syllable of [solfege](https://en.wikipedia.org/wiki/Solf%C3%A8ge).\n",
    "If a given syllable is valid, you should print it followed by a comma and the the appropriate line from the following list:\n",
    "\n",
    "* Do: A deer, a female deer\n",
    "* Re: A drop of golden sun\n",
    "* Mi: A name I call myself\n",
    "* Fa: A long long way to run\n",
    "* Sol: A needle pulling thread\n",
    "* La: A note to follow sol\n",
    "* Ti: A drink with jam and bread\n",
    "\n",
    "For example, it should handle one day:\n",
    "\n",
    "```\n",
    "$ ./solfege.py Do\n",
    "Do, A deer, a female deer\n",
    "```\n",
    "\n",
    "Or several:\n",
    "\n",
    "```\n",
    "$ ./solfege.py Do Mi Sol\n",
    "Do, A deer, a female deer\n",
    "Mi, A name I call myself\n",
    "Sol, A needle pulling thread\n",
    "```\n",
    "\n",
    "If any argument does not name a day of the week, print 'I don't know \"{note}\"':\n",
    "\n",
    "```\n",
    "$ ./solfege.py Do Mi foo Sol\n",
    "Do, A deer, a female deer\n",
    "Mi, A name I call myself\n",
    "I don't know \"foo\"\n",
    "Sol, A needle pulling thread\n",
    "```\n",
    "\n",
    "### Output\n",
    "\n",
    "If run with no arguments, it should print a short usage:\n",
    "\n",
    "```\n",
    "$ ./solfege.py\n",
    "usage: solfege.py [-h] str [str ...]\n",
    "solfege.py: error: the following arguments are required: str\n",
    "```\n",
    "\n",
    "And it should respond to `-h` or `--help` with a longer usage:\n",
    "\n",
    "```\n",
    "$ ./solfege.py -h\n",
    "usage: solfege.py [-h] str [str ...]\n",
    "\n",
    "Solfege\n",
    "\n",
    "positional arguments:\n",
    "  str         Solfege\n",
    "\n",
    "optional arguments:\n",
    "  -h, --help  show this help message and exit\n",
    "```"
   ]
  },
  {
   "cell_type": "markdown",
   "metadata": {},
   "source": [
    "## Time to write some code!\n",
    "\n",
    "Open the script here in VS Code in be434-Spring2024 -> assignments -> 03_solfege -> solfege.py \n",
    "\n",
    "Write/edit the code using the instructions above."
   ]
  },
  {
   "cell_type": "markdown",
   "metadata": {},
   "source": [
    "## Testing\n",
    "\n",
    "As you write your code, you can test it along the way to make sure that you are passing all of the tests for the homework. \n",
    "We will use the test suite that is included with the assignment to test that you are meeting all of the requirements in the instructions above. \n",
    "You will find the steps below to test your code. Note that you can also run these commands from a \"shell\" within the VS Code GUI. Or, you can run them here... "
   ]
  },
  {
   "cell_type": "code",
   "execution_count": null,
   "metadata": {},
   "outputs": [],
   "source": [
    "# Format your code to make it beautiful (this is called linting)\n",
    "!black ~/be434-Spring2024/assignments/03_solfege/solfege.py"
   ]
  },
  {
   "cell_type": "code",
   "execution_count": null,
   "metadata": {},
   "outputs": [],
   "source": [
    "# Now run the tests on your code\n",
    "%cd ~/be434-Spring2024/assignments/03_solfege\n",
    "!make test"
   ]
  },
  {
   "cell_type": "markdown",
   "metadata": {},
   "source": [
    "Your program should pass all tests:\n",
    "\n",
    "```\n",
    "$ make test\n",
    "pytest -xv --pylint --disable-warnings test.py\n",
    "============================= test session starts ==============================\n",
    "...\n",
    "collected 14 items\n",
    "\n",
    "test.py::PYLINT SKIPPED (file(s) previously passed pylint checks)        [  7%]\n",
    "test.py::FLAKE8 SKIPPED (file(s) previously passed FLAKE8 checks)        [ 14%]\n",
    "test.py::test_exists PASSED                                              [ 21%]\n",
    "test.py::test_usage PASSED                                               [ 28%]\n",
    "test.py::test_do PASSED                                                  [ 35%]\n",
    "test.py::test_re PASSED                                                  [ 42%]\n",
    "test.py::test_mi PASSED                                                  [ 50%]\n",
    "test.py::test_fa PASSED                                                  [ 57%]\n",
    "test.py::test_sol PASSED                                                 [ 64%]\n",
    "test.py::test_la PASSED                                                  [ 71%]\n",
    "test.py::test_ti PASSED                                                  [ 78%]\n",
    "test.py::test_lower PASSED                                               [ 85%]\n",
    "test.py::test_do_re PASSED                                               [ 92%]\n",
    "test.py::test_mix PASSED                                                 [100%]\n",
    "\n",
    "======================== 12 passed, 2 skipped in 0.42s =========================\n",
    "```\n",
    "\n",
    "Your grade is whatever percentage of tests your code passes."
   ]
  },
  {
   "cell_type": "markdown",
   "metadata": {},
   "source": [
    "## Uploading your code to GitHub\n",
    "\n",
    "Once you have written the code for your assignment, and are passing all of the tests above, you are ready to submit the assignment for grading. Use the steps below to submit your code to GitHub.\n",
    "\n",
    "* Note, if you are having any issues with passing tests, and need help, you can also submit the code with a different commit message like the following. \n",
    "\n",
    "```\n",
    "git commit -m \"test_xxx failing for 03_solfege\"\n",
    "```\n",
    "\n",
    "Once you have done that, send a private slack message to me @bhurwitz to let me know you submitted code and need help.\n"
   ]
  },
  {
   "cell_type": "code",
   "execution_count": null,
   "metadata": {},
   "outputs": [],
   "source": [
    "# Submit your code to Github\n",
    "%cd\n",
    "%cd be434-Spring2024\n",
    "!git add -A && git commit -m \"Submitting 03_solfege for grading\"\n",
    "!git push"
   ]
  },
  {
   "cell_type": "markdown",
   "metadata": {},
   "source": [
    "Great job! You are done with this assignment.\n",
    "\n",
    "## Authors\n",
    "\n",
    "Bonnie Hurwitz <bhurwitz@arizona.edu> and Ken Youens-Clark <kyclark@gmail.com>"
   ]
  }
 ],
 "metadata": {
  "kernelspec": {
   "display_name": "Python 3 (ipykernel)",
   "language": "python",
   "name": "python3"
  },
  "language_info": {
   "codemirror_mode": {
    "name": "ipython",
    "version": 3
   },
   "file_extension": ".py",
   "mimetype": "text/x-python",
   "name": "python",
   "nbconvert_exporter": "python",
   "pygments_lexer": "ipython3",
   "version": "3.9.6"
  }
 },
 "nbformat": 4,
 "nbformat_minor": 5
}
