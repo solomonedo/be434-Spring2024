{
 "cells": [
  {
   "cell_type": "markdown",
   "metadata": {},
   "source": [
    "# Assignment 2: Sum\n",
    "\n",
    "Write a Python program that will sum one or more required integer values."
   ]
  },
  {
   "cell_type": "code",
   "execution_count": null,
   "metadata": {},
   "outputs": [],
   "source": [
    "# Run this cell to make sure this assignment is up to date\n",
    "%cd ~/be434-Spring2024\n",
    "!git pull --no-edit upstream main"
   ]
  },
  {
   "cell_type": "markdown",
   "metadata": {},
   "source": [
    "## Getting Started with new.py\n",
    "\n",
    "Let's start out by using new.py to create a program template for us.\n"
   ]
  },
  {
   "cell_type": "code",
   "execution_count": null,
   "metadata": {},
   "outputs": [],
   "source": [
    "# Generate the `sum.py` using `new.py`\n",
    "%cd ~/be434-Spring2024/assignments/02_sum\n",
    "!new.py -p 'Add it up' sum.py"
   ]
  },
  {
   "cell_type": "markdown",
   "metadata": {},
   "source": [
    "You should see the following:\n",
    "\n",
    "```\n",
    "$ new.py -p 'Add it up' sum.py\n",
    "Done, see new script \"sum.py.\"\n",
    "```"
   ]
  },
  {
   "cell_type": "markdown",
   "metadata": {},
   "source": [
    "## Instructions\n",
    "\n",
    "### Usage and Arguments\n",
    "\n",
    "When run with no arguments, the program should produce a short usage:\n",
    "\n",
    "```\n",
    "$ ./sum.py\n",
    "usage: sum.py [-h] INT [INT ...]\n",
    "sum.py: error: the following arguments are required: INT\n",
    "```\n",
    "\n",
    "When run with `-h|--help`, the program should produce a longer usage:\n",
    "\n",
    "```\n",
    "$ ./sum.py --help\n",
    "usage: sum.py [-h] INT [INT ...]\n",
    "\n",
    "Add numbers\n",
    "\n",
    "positional arguments:\n",
    "  INT         Numbers to add\n",
    "\n",
    "optional arguments:\n",
    "  -h, --help  show this help message and exit\n",
    "```\n",
    "\n",
    "Any non-integer values should be rejected:\n",
    "\n",
    "```\n",
    "$ ./sum.py 1 2 foo\n",
    "usage: sum.py [-h] INT [INT ...]\n",
    "sum.py: error: argument INT: invalid int value: 'foo'\n",
    "```\n",
    "\n",
    "### Output\n",
    "\n",
    "The output of the program should show an addition statement with each of the arguments followed by an equal sign and the sum of the values.\n",
    "When there is only one argument, the output should be this:\n",
    "\n",
    "```\n",
    "$ ./sum.py 2\n",
    "2 = 2\n",
    "```\n",
    "\n",
    "With two or more values, place a plus sign in between each argument:\n",
    "\n",
    "```\n",
    "$ ./sum.py 2 3 4\n",
    "2 + 3 + 4 = 9\n",
    "```\n",
    "\n",
    "The program should handle negative values as well:\n",
    "\n",
    "```\n",
    "$ ./sum.py -4 5\n",
    "-4 + 5 = 1\n",
    "```"
   ]
  },
  {
   "cell_type": "markdown",
   "metadata": {},
   "source": [
    "## Time to write some code!\n",
    "\n",
    "Open the script here in VS Code in be434-Spring2024 -> assignments -> 02_sum -> sum.py \n",
    "\n",
    "Write/edit the code using the instructions above.\n"
   ]
  },
  {
   "cell_type": "markdown",
   "metadata": {},
   "source": [
    "## Testing\n",
    "\n",
    "As you write your code, you can test it along the way to make sure that you are passing all of the tests for the homework. \n",
    "We will use the test suite that is included with the assignment to test that you are meeting all of the requirements in the instructions above. \n",
    "You will find the steps below to test your code. Note that you can also run these commands from a \"shell\" within the VS Code GUI. Or, you can run them here... "
   ]
  },
  {
   "cell_type": "code",
   "execution_count": null,
   "metadata": {},
   "outputs": [],
   "source": [
    "# Format your code to make it beautiful (this is called linting)\n",
    "!black ~/be434-Spring2024/assignments/02_sum/sum.py"
   ]
  },
  {
   "cell_type": "code",
   "execution_count": null,
   "metadata": {},
   "outputs": [],
   "source": [
    "# Now run the tests on your code\n",
    "%cd ~/be434-Spring2024/assignments/02_sum\n",
    "!make test"
   ]
  },
  {
   "cell_type": "markdown",
   "metadata": {},
   "source": [
    "A passing test suite should look like this:\n",
    "\n",
    "```\n",
    "$ conda activate /groups/bhurwitz/bh_class/be434/be434-conda\n",
    "$ make test\n",
    "pytest -xv --pylint --disable-warnings test.py\n",
    "============================= test session starts ==============================\n",
    "...\n",
    "\n",
    "test.py::PYLINT PASSED                                                   [  9%]\n",
    "test.py::FLAKE8 PASSED                                                   [ 18%]\n",
    "test.py::test_exists PASSED                                              [ 27%]\n",
    "test.py::test_usage PASSED                                               [ 36%]\n",
    "test.py::test_dies_no_args PASSED                                        [ 45%]\n",
    "test.py::test_dies_not_numbers PASSED                                    [ 54%]\n",
    "test.py::test1 PASSED                                                    [ 63%]\n",
    "test.py::test2 PASSED                                                    [ 72%]\n",
    "test.py::test3 PASSED                                                    [ 81%]\n",
    "test.py::test4 PASSED                                                    [ 90%]\n",
    "test.py::test5 PASSED                                                    [100%]\n",
    "\n",
    "============================== 11 passed in 0.50s ==============================\n",
    "```\n",
    "\n",
    "I encourage you to read the _test.py_ program to see how the tests are run and what is expected.\n",
    "\n",
    "Your grade is whatever percentage of tests your code passes."
   ]
  },
  {
   "cell_type": "markdown",
   "metadata": {},
   "source": [
    "## Uploading your code to GitHub\n",
    "\n",
    "Once you have written the code for your assignment, and are passing all of the tests above, \n",
    "you are ready to submit the assignment for grading. Use the steps below to submit your code to GitHub.\n",
    "\n",
    "* Note, if you are having any issues with passing tests, and need help, \n",
    "you can also submit the code with a different commit message like the following. \n",
    "\n",
    "```\n",
    "git commit -m \"test_xxx failing for 02_sum\"\n",
    "```\n",
    "\n",
    "Once you have done that, send a private slack message to me @bhurwitz to let me know you submitted code and need help.\n"
   ]
  },
  {
   "cell_type": "code",
   "execution_count": null,
   "metadata": {},
   "outputs": [],
   "source": [
    "# Submit your code to Github\n",
    "%cd\n",
    "%cd be434-Spring2024\n",
    "!git add -A && git commit -m \"Submitting 02_sum for grading\"\n",
    "!git push"
   ]
  },
  {
   "cell_type": "markdown",
   "metadata": {},
   "source": [
    "Great job! You are done with this assignment.\n",
    "\n",
    "## Authors\n",
    "\n",
    "Bonnie Hurwitz <bhurwitz@arizona.edu> and Ken Youens-Clark <kyclark@gmail.com>"
   ]
  }
 ],
 "metadata": {
  "kernelspec": {
   "display_name": "Python 3 (ipykernel)",
   "language": "python",
   "name": "python3"
  },
  "language_info": {
   "codemirror_mode": {
    "name": "ipython",
    "version": 3
   },
   "file_extension": ".py",
   "mimetype": "text/x-python",
   "name": "python",
   "nbconvert_exporter": "python",
   "pygments_lexer": "ipython3",
   "version": "3.9.6"
  }
 },
 "nbformat": 4,
 "nbformat_minor": 5
}
